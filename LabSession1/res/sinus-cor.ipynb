{
 "cells": [
  {
   "cell_type": "code",
   "execution_count": null,
   "id": "c2347db7",
   "metadata": {},
   "outputs": [],
   "source": [
    "## R 101:\n",
    "## * Variables are vectors by default\n",
    "## * Standard data structure is a data frame (\"table\" with names columns and rows)\n",
    "## * <- is used for assignment\n",
    "## * assignments in function definitions set standard values\n",
    "\n",
    "library(ggplot2)\n",
    "library(reshape2)"
   ]
  },
  {
   "cell_type": "code",
   "execution_count": null,
   "id": "eacc8d5b",
   "metadata": {},
   "outputs": [],
   "source": [
    "## Generate a discrete sample of function fn on domain [.from, .to]\n",
    "## with N samples. Returns a data frame with x=input values,\n",
    "## y=sampled function values\n",
    "sample.fn <- function(.from, .to, fun=sin, N=1024) {\n",
    "    res <- data.frame(x=seq(from=.from, to=.to, length.out=N))\n",
    "    res$y <- fun(res$x)\n",
    "\n",
    "    return(res)\n",
    "}"
   ]
  },
  {
   "cell_type": "code",
   "execution_count": null,
   "id": "41789cb2",
   "metadata": {},
   "outputs": [],
   "source": [
    "## Sample a simple sinus\n",
    "dat <- sample.fn(0, 2*pi)"
   ]
  },
  {
   "cell_type": "code",
   "execution_count": null,
   "id": "1220f489",
   "metadata": {},
   "outputs": [],
   "source": [
    "## and visualise the result.\n",
    "## ggplot 101:\n",
    "## * First argument gives the data frame to plot\n",
    "## * aes sets which variables in the data frame are mapped to which aesthetic\n",
    "##   property (here: x and y coordinate, but could also be colour, see below)\n",
    "## * geom_point instructs to plot individual points \n",
    "ggplot(dat, aes(x=x,y=y)) + geom_point(size=0.1)"
   ]
  },
  {
   "cell_type": "code",
   "execution_count": null,
   "id": "5ab8d9e6",
   "metadata": {},
   "outputs": [],
   "source": [
    "## Augment a data frame with noise that affects computed y values\n",
    "## (additive uniform noise; other types of noise may appear in real-world\n",
    "## experiments)\n",
    "gen.noisy.df <- function(dat, noise.strength=0.2) {\n",
    "    dat$y.noisy <- dat$y+runif(nrow(dat), -noise.strength, noise.strength)\n",
    "    return(dat)\n",
    "}"
   ]
  },
  {
   "cell_type": "code",
   "execution_count": null,
   "id": "502e7bfd",
   "metadata": {},
   "outputs": [],
   "source": [
    "## Let's inspect the influence of the noise on the numerical values\n",
    "head(gen.noisy.df(dat))"
   ]
  },
  {
   "cell_type": "code",
   "execution_count": null,
   "id": "9ae04f74",
   "metadata": {},
   "outputs": [],
   "source": [
    "## ... and visualise the differences between noisy and perfect measurement\n",
    "## (the melt step is here to transform data from a wide to a long representation;\n",
    "## this eases plotting, but is not essential for our purposes)\n",
    "dat.molten <- melt(gen.noisy.df(dat), id.vars=c(\"x\"))\n",
    "ggplot(dat.molten, aes(x=x, y=value, colour=variable)) + geom_point(size=0.1)"
   ]
  },
  {
   "cell_type": "code",
   "execution_count": null,
   "id": "dd572618",
   "metadata": {},
   "outputs": [],
   "source": [
    "## The \"similarity\" between two measurements may be quantified with the Pearson\n",
    "## correlation, of course with the perils discussed in the lecture.\n",
    "## NOTE: When you run this calculation multiple times, derived correlation\n",
    "## values will differ in subsequent runs because the stochastis noise is\n",
    "## re-generated on each call\n",
    "cor(dat$y, gen.noisy.df(dat)$y.noisy)\n"
   ]
  },
  {
   "cell_type": "code",
   "execution_count": null,
   "id": "23edf43b",
   "metadata": {},
   "outputs": [],
   "source": [
    "## Systematically study the correlation value with increasing amounts of noise\n",
    "gen.cor.seq <- function(dat, noise.values) {\n",
    "    return(do.call(rbind, lapply(noise.values, function(noise) {\n",
    "        return(data.frame(noise=noise, correlation=cor(dat$y, gen.noisy.df(dat, noise)$y.noisy)))\n",
    "    })))\n",
    "}\n",
    "\n",
    "res.noise <- gen.cor.seq(dat, seq(from=0.1, to=1.5, length.out=25))\n",
    "ggplot(res.noise, aes(x=noise, y=correlation)) + geom_point()"
   ]
  },
  {
   "cell_type": "code",
   "execution_count": null,
   "id": "5432db18",
   "metadata": {},
   "outputs": [],
   "source": [
    "## Visually inspect the action of different noise levels\n",
    "ggplot(melt(gen.noisy.df(dat, 0.1), id.vars=c(\"x\")),\n",
    "       aes(x=x, y=value, colour=variable)) + geom_point(size=0.2)"
   ]
  },
  {
   "cell_type": "code",
   "execution_count": null,
   "id": "224da3a5",
   "metadata": {},
   "outputs": [],
   "source": [
    "## Another type of \"noise\" (in a general sense) may cause the characteristics of\n",
    "## the measured function to change from the original observation.\n",
    "## This functions augments a given sampling dataframe with \"functional\" noise.\n",
    "gen.noisy.df.fun <- function(dat, fn=cos) {\n",
    "    dat$y.noisy <- fn(dat$x)\n",
    "    return(dat)\n",
    "}\n",
    "\n",
    "## Visualise orginal function and shifted \"reproduction\"\n",
    "ggplot(melt(gen.noisy.df.fun(dat, function(x) {sin(x-0.1*pi)}),\n",
    "            id.vars=c(\"x\")), aes(x=x, y=value, colour=variable)) + geom_point(size=0.1)"
   ]
  },
  {
   "cell_type": "code",
   "execution_count": null,
   "id": "9fe19279",
   "metadata": {},
   "outputs": [],
   "source": [
    "## Compute the quantitative correlation for this type of \"noise\"\n",
    "## (it is instructive to visualise for which shifts the correlation value turns negative)\n",
    "cor(dat$y, gen.noisy.df.fun(dat, function(x) {sin(x-0.1*pi)})$y.noisy)"
   ]
  }
 ],
 "metadata": {
  "kernelspec": {
   "display_name": "R",
   "language": "R",
   "name": "ir"
  },
  "language_info": {
   "codemirror_mode": "r",
   "file_extension": ".r",
   "mimetype": "text/x-r-source",
   "name": "R",
   "pygments_lexer": "r",
   "version": "4.1.1"
  }
 },
 "nbformat": 4,
 "nbformat_minor": 5
}
